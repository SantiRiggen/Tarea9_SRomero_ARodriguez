{
 "cells": [
  {
   "cell_type": "markdown",
   "metadata": {},
   "source": [
    "<img style=\"float: left; margin: 30px 15px 15px 15px;\" src=\"https://pngimage.net/wp-content/uploads/2018/06/logo-iteso-png-5.png\" width=\"300\" height=\"500\" /> \n",
    "    \n",
    "    \n",
    "### <font color='navy'> Simulación de procesos financieros. \n",
    "\n",
    "**Nombres:** Santiago Romero y Ana Rodriguez.\n",
    "\n",
    "**Fecha:** 02 de Julio del 2021.\n",
    "\n",
    "**Expediente** : if715099 y if709288.\n",
    "**Profesor:** Oscar David Jaramillo Zuluaga.\n",
    "    \n",
    "**Link Github**: https://github.com/SantiRiggen/Tarea9_SRomero_ARodriguez\n",
    "\n",
    "# Tarea 9: Clase 19"
   ]
  },
  {
   "cell_type": "markdown",
   "metadata": {},
   "source": [
    "#### Código de solución estudiante 1: Santiago Romero"
   ]
  },
  {
   "cell_type": "markdown",
   "metadata": {},
   "source": [
    "- #### Ecuación\n",
    "\n",
    "$L(\\theta) = f(x_1)\\cdot ... \\cdot f(x_n) $"
   ]
  },
  {
   "cell_type": "markdown",
   "metadata": {},
   "source": [
    "- #### MLE dada por\n",
    "\n",
    "$L = f(x_1)\\cdot f(x_2)\\cdot ... \\cdot f(x_n) $"
   ]
  },
  {
   "cell_type": "markdown",
   "metadata": {},
   "source": [
    "- #### Sustituimos y nos queda\n",
    "\n",
    "$L = \\frac {1}{(\\sqrt {2 \\pi})^n} * \\frac {1}{(\\sqrt {(\\sigma^2})^n} * e^{ \\frac{1}{\\sigma ^2}\\sum_{i=1}^n (x_i-\\mu)^2}$"
   ]
  },
  {
   "cell_type": "markdown",
   "metadata": {},
   "source": [
    "- #### Usamos la propiedad de exponentes."
   ]
  },
  {
   "cell_type": "markdown",
   "metadata": {},
   "source": [
    "$ ln * \\frac {1}{(\\sqrt 2\\pi)^n}$\n",
    "\n",
    "$ ln * (\\sqrt {2\\pi})^{-n} $\n",
    "\n",
    "$ -n * ln(\\sqrt {2 \\pi})$\n",
    "\n",
    "$ ln(L) = -n*ln(\\sqrt {2 \\pi}) -n*ln(\\sigma^2) - \\frac{1}{\\sigma^2}\\sum_{i=1}^n (x_i-\\mu)^2 $"
   ]
  },
  {
   "cell_type": "markdown",
   "metadata": {},
   "source": [
    "- #### Derivamos, respecto a $\\mu$ y $\\sigma^2$ \n",
    "    - #### Primero para $\\sigma^2$"
   ]
  },
  {
   "cell_type": "markdown",
   "metadata": {},
   "source": [
    "$\\frac{\\partial lnL }{\\partial \\sigma^2} = -\\frac{n}{\\sigma^2} + \\frac{1}{(\\sigma^2)^2}\\sum_{i=1}^n (x_i-\\mu)^2 = 0$\n",
    "\n",
    "$  = \\frac{1}{\\sigma^2}[{-n + \\frac{1}{\\sigma^2}\\sum_{i=1}^n (x_i-\\mu)^2}]=0$"
   ]
  },
  {
   "cell_type": "markdown",
   "metadata": {},
   "source": [
    "### Así combrobamos que..."
   ]
  },
  {
   "cell_type": "markdown",
   "metadata": {},
   "source": [
    "$\\sigma^2={1\\over n}\\sum_{i=1}^n (x_i-\\hat \\mu)^2$"
   ]
  },
  {
   "cell_type": "markdown",
   "metadata": {},
   "source": [
    "- #### Ahora para $\\mu$"
   ]
  },
  {
   "cell_type": "markdown",
   "metadata": {},
   "source": [
    "$\\frac{\\partial lnL }{\\partial \\mu} = - \\frac{1}{\\sigma ^2}\\sum_{i=1}^n \\frac{\\partial}{\\partial \\mu}(x_i - \\mu)^2$\n",
    "\n",
    "$\\frac{2}{\\sigma^2}\\sum_{i=1}^n (x_i-\\mu) = 0$\n",
    "\n",
    "$ \\sum_{i=1}^n (x_i) - (n\\mu) =0$"
   ]
  },
  {
   "cell_type": "markdown",
   "metadata": {},
   "source": [
    "### Así combrobamos que..."
   ]
  },
  {
   "cell_type": "markdown",
   "metadata": {},
   "source": [
    "$\\hat \\mu = {1\\over n}\\sum_{i=1}^n x_i$"
   ]
  },
  {
   "cell_type": "markdown",
   "metadata": {},
   "source": [
    "#### Código de solución estudiante 2: Ana Rodríguez"
   ]
  },
  {
   "cell_type": "code",
   "execution_count": null,
   "metadata": {},
   "outputs": [],
   "source": [
    "# Código de solución estudiante 2\n",
    ".\n",
    ".\n",
    ".\n",
    ".\n"
   ]
  }
 ],
 "metadata": {
  "kernelspec": {
   "display_name": "Python 3",
   "language": "python",
   "name": "python3"
  },
  "language_info": {
   "codemirror_mode": {
    "name": "ipython",
    "version": 3
   },
   "file_extension": ".py",
   "mimetype": "text/x-python",
   "name": "python",
   "nbconvert_exporter": "python",
   "pygments_lexer": "ipython3",
   "version": "3.8.8"
  }
 },
 "nbformat": 4,
 "nbformat_minor": 2
}
